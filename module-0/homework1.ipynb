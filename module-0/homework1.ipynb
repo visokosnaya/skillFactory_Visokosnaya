{
 "cells": [
  {
   "cell_type": "code",
   "execution_count": 5,
   "metadata": {},
   "outputs": [
    {
     "name": "stdout",
     "output_type": "stream",
     "text": [
      "Ваш алгоритм угадывает число в среднем за 5 попыток\n"
     ]
    },
    {
     "data": {
      "text/plain": [
       "5"
      ]
     },
     "execution_count": 5,
     "metadata": {},
     "output_type": "execute_result"
    }
   ],
   "source": [
    "import numpy as np\n",
    "\n",
    "\n",
    "def game_core(number):\n",
    "    count = 0\n",
    "    maximum = 101\n",
    "    minimum = 0\n",
    "    while True:\n",
    "        count += 1\n",
    "        predict = (maximum + minimum) // 2\n",
    "        if number == predict:\n",
    "            break\n",
    "        elif number > predict:\n",
    "            minimum = predict\n",
    "        elif number < predict:\n",
    "            maximum = predict\n",
    "            \n",
    "    return(count) #выход из цикла, информация о количестве попыток\n",
    "\n",
    "\n",
    "def score_game(game_core):\n",
    "    '''Запускаем игру 1000 раз, узнаем, как быстро игра угадывает число'''\n",
    "    count_ls = []\n",
    "    np.random.seed(1) \n",
    "    #фиксируем RANDOM SEED, чтобы ваш эксперимент был воспроизведен\n",
    "    random_array = np.random.randint(1,101, size=(1000))\n",
    "    for number in random_array:\n",
    "        count_ls.append(game_core(number))\n",
    "    score = int(np.mean(count_ls))\n",
    "    print(f'Ваш алгоритм угадывает число в среднем за {score} попыток')\n",
    "    \n",
    "    return (score)\n",
    "\n",
    "score_game(game_core)"
   ]
  },
  {
   "cell_type": "code",
   "execution_count": null,
   "metadata": {},
   "outputs": [],
   "source": []
  }
 ],
 "metadata": {
  "kernelspec": {
   "display_name": "Python 3",
   "language": "python",
   "name": "python3"
  },
  "language_info": {
   "codemirror_mode": {
    "name": "ipython",
    "version": 3
   },
   "file_extension": ".py",
   "mimetype": "text/x-python",
   "name": "python",
   "nbconvert_exporter": "python",
   "pygments_lexer": "ipython3",
   "version": "3.8.3"
  }
 },
 "nbformat": 4,
 "nbformat_minor": 4
}
